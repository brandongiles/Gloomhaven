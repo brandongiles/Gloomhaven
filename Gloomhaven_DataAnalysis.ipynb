{
 "cells": [
  {
   "cell_type": "markdown",
   "metadata": {},
   "source": [
    "There are three validation checks we need to do on each hand combination that was passed into the previous array in order to evaluate if it's a legitimate hand or not:\n",
    "\n",
    "1.  The hand level sum needs to be lower than the max value for the hand and level\n",
    "    - This is done by assigning each card in the combination it's level, so a level 1 card gets a 1, level 2 a 2, etc.\n",
    "    - The sum of the array's level values then needs to be lower than the max value given by the following formula:\n",
    "        - Max value formula = ((([1] + [Level])*[Level])/2) + ([Hand Size] - [Level])\n",
    "        - Ex: For the Brute class, when evaluating hand combinations at level 2's selection time:\n",
    "            - (((1+2)*2)/2) + (10-2)\n",
    "            - 3 + 8 = 11\n",
    "        - Intuitively, this makes sense as at level 1, the Brute class would have 10 level 1 cards for a total of 10\n",
    "        - At level 2, at most, you would select one level 2 card and replace a level 1 card with it\n",
    "        - That would replace a 1 value with a 2, taking the max value possible up to 11\n",
    "        - If we ever run into a class that has a hand size lower than 8, this formula will need to be tweaked\n",
    "            - This is because at a hand size of 8, you could remove a level 1 card for each level up\n",
    "            - At a hand size of 7 or lower, the top level ups would mean you need to replace a card value over 1\n",
    "        \n",
    "2. At the level being evaluated, each hand combination can only have one of the level cards\n",
    "    - When leveling up, you can initially only select a single card for the given level\n",
    "    - This will filter out any combinations that load in something like two level 2 cards when evaluating level 2\n",
    "    \n",
    "3. The amount of cards over level 1 in the hand cannot exceed then evaluation level minus 1\n",
    "    - This is because you can only make one card selection every time you level up\n",
    "    - It is allowed for you to take a card lower than the level you're on, for example taking the 2nd lvl 2 card at level 3's promotion rather than a level 3\n",
    "    - You cannot though have something like both level 2 cards AND a level 3 card at level 3\n",
    "    - As the levels get higher, there are ways to make summation combinations that fall meet conditions 1 and 2 but use more cards > level 1 than is permitted"
   ]
  },
  {
   "cell_type": "code",
   "execution_count": 70,
   "metadata": {},
   "outputs": [],
   "source": [
    "# Importing packages\n",
    "import numpy as np\n",
    "import pandas as pd\n",
    "import itertools\n",
    "import statistics as stat\n",
    "import time\n",
    "import matplotlib.pyplot as plt"
   ]
  },
  {
   "cell_type": "code",
   "execution_count": 2,
   "metadata": {},
   "outputs": [],
   "source": [
    "# Loading in CSV data.  For now, this only contains a single class' cards and initiatives\n",
    "rawdata = pd.read_csv(\"GloomhavenTest.csv\")\n",
    "gen_classinfo = pd.read_csv(\"ClassInfo.csv\")"
   ]
  },
  {
   "cell_type": "code",
   "execution_count": 3,
   "metadata": {},
   "outputs": [],
   "source": [
    "# Creating a max value function that will evaluate the value for condition 1 above\n",
    "def maxvalue(handsize, current_level):\n",
    "    return (((1 + current_level)*current_level)/2) + (handsize - current_level)\n",
    "\n",
    "# Creating a function to count the number of cards at a level in a list\n",
    "def lvl_counter(input_list, value):\n",
    "    return sum([1 for v in input_list if v == value])"
   ]
  },
  {
   "cell_type": "code",
   "execution_count": 49,
   "metadata": {},
   "outputs": [],
   "source": [
    "# Setting data items for use later in code\n",
    "active_class = gen_classinfo['Class'][0]       # Setting the active class (Class[0] = Brute)\n",
    "hand_size = gen_classinfo['Hand Size'][0]      # Setting the hand size\n",
    "\n",
    "# Creating dictionaries to hold results\n",
    "count_result_dict = dict()\n",
    "avg_result_dict = dict()\n",
    "stdev_result_dict = dict()"
   ]
  },
  {
   "cell_type": "code",
   "execution_count": 50,
   "metadata": {},
   "outputs": [],
   "source": [
    "# %%timeit\n",
    "\n",
    "for i in set(rawdata['Level']):\n",
    "    \n",
    "    # Setting the level and initiative columns for values up to the current level\n",
    "    current_level = i   # Current level for the loop (envisioning this as a 1 -> 9 loop later)\n",
    "    level_df = rawdata[(rawdata['Class'] == active_class) & (rawdata['Level'] <= current_level)]['Level']\n",
    "    initiative_df = rawdata[(rawdata['Class'] == active_class) & (rawdata['Level'] <= current_level)]['Initiative']\n",
    "    currlvl_df = pd.concat([level_df, initiative_df], axis = 1)\n",
    "\n",
    "\n",
    "    # Second swing at a different roll-up method, using evaluations steps while looping the comb. iterator\n",
    "    max_value = maxvalue(hand_size, current_level)  # Setting the max value for this class/level\n",
    "    curr_lvl_minus1 = (current_level - 1)\n",
    "\n",
    "    # Creating a dictionary to assign a binary 1 or 0 to each combination, based on it passing the hand conditions\n",
    "    level_comb2 = dict()\n",
    "    dict_counter = 0\n",
    "\n",
    "    for hand in itertools.combinations(currlvl_df['Level'], hand_size):\n",
    "        if sum(hand) <= max_value and \\\n",
    "        (hand_size - lvl_counter(hand,1)) <= curr_lvl_minus1 and (lvl_counter(hand, current_level)) != 2:\n",
    "            level_comb2[dict_counter] = True\n",
    "        else:\n",
    "            level_comb2[dict_counter] = False \n",
    "        dict_counter += 1\n",
    "\n",
    "\n",
    "    # Now creating a dictionary to reference the above binary dictionary in order to populate hand averages for valid hands\n",
    "    initiative_comb2 = dict()\n",
    "    dict_counter = 0\n",
    "    valid_dict_counter = 0\n",
    "\n",
    "    for hand in itertools.combinations(currlvl_df['Initiative'], hand_size):\n",
    "        if level_comb2[dict_counter]:\n",
    "            initiative_comb2[valid_dict_counter] = (sum(hand)/hand_size)\n",
    "            valid_dict_counter += 1\n",
    "        dict_counter += 1\n",
    "\n",
    "    initiative_comb2_df = pd.DataFrame.from_dict(initiative_comb2, orient = 'Index')\n",
    "    \n",
    "    # Writing results\n",
    "    count_result_dict[i - 1] = len(initiative_comb2_df)\n",
    "    avg_result_dict[i - 1] = initiative_comb2_df.mean()\n",
    "    stdev_result_dict[i - 1] = initiative_comb2_df.std()"
   ]
  },
  {
   "cell_type": "code",
   "execution_count": 69,
   "metadata": {},
   "outputs": [
    {
     "name": "stdout",
     "output_type": "stream",
     "text": [
      "          0          0         0\n",
      "0       286  44.000000  3.995919\n",
      "1      1716  43.416667  4.326364\n",
      "2      9581  43.502985  4.564459\n",
      "3     46618  44.301534  5.266695\n",
      "4    200343  43.646467  5.377058\n",
      "5    744458  43.036881  5.583827\n",
      "6   2405689  42.133240  5.542226\n",
      "7   6806371  41.007196  5.616149\n",
      "8  17178772  41.295620  5.679533\n"
     ]
    }
   ],
   "source": [
    "count_results_df = pd.DataFrame.from_dict(count_result_dict, orient = 'Index')\n",
    "avg_results_df = pd.DataFrame.from_dict(avg_result_dict, orient = 'Index')\n",
    "stdev_results_df = pd.DataFrame.from_dict(stdev_result_dict, orient = 'Index')\n",
    "\n",
    "total_results_df = pd.concat([count_results_df, avg_results_df, stdev_results_df], axis = 1)\n",
    "\n",
    "print(total_results_df)"
   ]
  },
  {
   "cell_type": "code",
   "execution_count": 79,
   "metadata": {},
   "outputs": [
    {
     "data": {
      "image/png": "[encoded data removed]",
      "text/plain": [
       "<Figure size 432x288 with 1 Axes>"
      ]
     },
     "metadata": {},
     "output_type": "display_data"
    }
   ],
   "source": [
    "# x = set(rawdata['Level'])\n",
    "# y = avg_results_df\n",
    "# e = stdev_results_df\n",
    "\n",
    "x = np.array([1,2,3,4,5,6,7,8,9])\n",
    "y = np.array([44.00, 43.42, 43.50, 44.30, 43.64, 43.04, 42.13, 41.00, 41.30])\n",
    "e = np.array([3.99, 4.33, 4.56, 5.27, 5.38, 5.58, 5.54, 5.62, 5.68])\n",
    "\n",
    "plt.errorbar(x, y, e, linestyle='None', marker='^', capsize=3)\n",
    "\n",
    "plt.show()"
   ]
  },
  {
   "cell_type": "code",
   "execution_count": null,
   "metadata": {},
   "outputs": [],
   "source": []
  }
 ],
 "metadata": {
  "kernelspec": {
   "display_name": "Python 3",
   "language": "python",
   "name": "python3"
  },
  "language_info": {
   "codemirror_mode": {
    "name": "ipython",
    "version": 3
   },
   "file_extension": ".py",
   "mimetype": "text/x-python",
   "name": "python",
   "nbconvert_exporter": "python",
   "pygments_lexer": "ipython3",
   "version": "3.6.5"
  }
 },
 "nbformat": 4,
 "nbformat_minor": 2
}
