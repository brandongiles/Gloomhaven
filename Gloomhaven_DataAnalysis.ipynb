{
 "cells": [
  {
   "cell_type": "code",
   "execution_count": 276,
   "metadata": {},
   "outputs": [],
   "source": [
    "# Importing packages\n",
    "import numpy as np\n",
    "import pandas as pd\n",
    "import itertools\n",
    "import statistics as stat\n",
    "import time"
   ]
  },
  {
   "cell_type": "code",
   "execution_count": 262,
   "metadata": {},
   "outputs": [],
   "source": [
    "# Starting timer\n",
    "start = time.time()\n",
    "\n",
    "# Loading in CSV data.  For now, this only contains a single class' cards and initiatives\n",
    "rawdata = pd.read_csv(\"GloomhavenTest.csv\")"
   ]
  },
  {
   "cell_type": "code",
   "execution_count": 263,
   "metadata": {},
   "outputs": [],
   "source": [
    "# Setting data items for use later in code\n",
    "# Will want to make the hand size set dynamic and then build a loop to cycle through current levels\n",
    "\n",
    "hand_size = 10      # Setting the hand size for the Brute class (the class in the test data)\n",
    "current_level = 2   # Current level for the loop (will likely build this loop out in VSC)"
   ]
  },
  {
   "cell_type": "code",
   "execution_count": 275,
   "metadata": {},
   "outputs": [],
   "source": [
    "# Converting the level and initiative column to lists\n",
    "level_df_list = rawdata['Level'].tolist()  # figure out how to filter this pass for a class name\n",
    "\n",
    "initiative_df_list = rawdata['Initiative'].tolist()  # figure out how to filter this pass for a class name"
   ]
  },
  {
   "cell_type": "code",
   "execution_count": 265,
   "metadata": {},
   "outputs": [],
   "source": [
    "# Creating an array of just the cards with levels up to and including the current level\n",
    "level_index = [item for item in level_df_list if item <= current_level]"
   ]
  },
  {
   "cell_type": "code",
   "execution_count": 266,
   "metadata": {},
   "outputs": [],
   "source": [
    "# Creating an array of initiatives for just the levels up to and including the current level\n",
    "init_index = 1\n",
    "avail_card_count = len(level_index)\n",
    "\n",
    "initiative_index = []\n",
    "for item in initiative_df_list:\n",
    "    if init_index <= avail_card_count:\n",
    "        initiative_index.append(initiative_df_list[(init_index - 1)])\n",
    "        init_index += 1"
   ]
  },
  {
   "cell_type": "code",
   "execution_count": 267,
   "metadata": {},
   "outputs": [],
   "source": [
    "# Creating a list of all the possible combinations.  This will get parsed in the following steps\n",
    "level_comb = list(itertools.combinations(level_index, hand_size))\n",
    "initiative_comb = list(itertools.combinations(initiative_index, hand_size))"
   ]
  },
  {
   "attachments": {},
   "cell_type": "markdown",
   "metadata": {},
   "source": [
    "There are three validation checks we need to do on each hand combination that was passed into the previous array in order to evaluate if it's a legitimate hand or not:\n",
    "\n",
    "1.  The hand level sum needs to be lower than the max value for the hand and level\n",
    "    - This is done by assigning each card in the combination it's level, so a level 1 card gets a 1, level 2 a 2, etc.\n",
    "    - The sum of the array's level values then needs to be lower than the max value given by the following formula:\n",
    "        - Max value formula = ((([1] + [Level])*[Level])/2) + ([Hand Size] - [Level])\n",
    "        - Ex: For the Brute class, when evaluating hand combinations at level 2's selection time:\n",
    "            - (((1+2)*2)/2) + (10-2)\n",
    "            - 3 + 8 = 11\n",
    "        - Intuitively, this makes sense as at level 1, the Brute class would have 10 level 1 cards for a total of 10\n",
    "        - At level 2, at most, you would select one level 2 card and replace a level 1 card with it\n",
    "        - That would replace a 1 value with a 2, taking the max value possible up to 11\n",
    "        - If we ever run into a class that has a hand size lower than 8, this formula will need to be tweaked\n",
    "            - This is because at a hand size of 8, you could remove a level 1 card for each level up\n",
    "            - At a hand size of 7 or lower, the top level ups would mean you need to replace a card value over 1\n",
    "        \n",
    "2. At the level being evaluated, each hand combination can only have one of the level cards\n",
    "    - When leveling up, you can initially only select a single card for the given level\n",
    "    - This will filter out any combinations that load in something like two level 2 cards when evaluating level 2\n",
    "    \n",
    "3. The amount of cards over level 1 in the hand cannot exceed then evaluation level minus 1\n",
    "    - This is because you can only make one card selection every time you level up\n",
    "    - It is allowed for you to take a card lower than the level you're on, for example taking the 2nd lvl 2 card at level 3's promotion rather than a level 3\n",
    "    - You cannot though have something like both level 2 cards AND a level 3 card at level 3\n",
    "    - As the levels get higher, there are ways to make summation combinations that fall meet conditions 1 and 2 but use more cards > level 1 than is permitted"
   ]
  },
  {
   "cell_type": "code",
   "execution_count": 268,
   "metadata": {},
   "outputs": [],
   "source": [
    "# Creating a max value function that will evaluate the value for condition 1 above\n",
    "def maxvalue(handsize, current_level):\n",
    "    return (((1 + current_level)*current_level)/2) + (handsize - current_level)\n",
    "\n",
    "# Creating a function to count the number of cards at a level in a list\n",
    "def lvl_counter(input_list, value):\n",
    "    lvl_count = 0\n",
    "    for i in input_list:\n",
    "        if i == value:\n",
    "            lvl_count += 1\n",
    "    return lvl_count"
   ]
  },
  {
   "cell_type": "code",
   "execution_count": 269,
   "metadata": {},
   "outputs": [],
   "source": [
    "# Performing validation checks on array and inputing hands that pass checks into a new list\n",
    "valid_hand_array = list()\n",
    "max_value = maxvalue(hand_size, current_level)\n",
    "\n",
    "for ele, hand in enumerate(level_comb):\n",
    "    if sum(hand) <= max_value and \\\n",
    "    (hand_size - lvl_counter(hand,1)) <= (current_level - 1) and (lvl_counter(hand, current_level)) != 2:\n",
    "        \n",
    "        valid_hand_array.append(ele)"
   ]
  },
  {
   "cell_type": "code",
   "execution_count": 270,
   "metadata": {},
   "outputs": [],
   "source": [
    "# Performing validation checks on array and inputing hands that pass checks into a new list\n",
    "valid_initiative_array = list()\n",
    "hand_avg_init = list()\n",
    "\n",
    "for ele, hand in enumerate(initiative_comb):\n",
    "    if ele in valid_hand_array:\n",
    "        \n",
    "        valid_initiative_array.append(hand)\n",
    "        hand_avg_init.append(sum(hand)/hand_size)"
   ]
  },
  {
   "cell_type": "code",
   "execution_count": 271,
   "metadata": {},
   "outputs": [
    {
     "name": "stdout",
     "output_type": "stream",
     "text": [
      "                 0\n",
      "count  1716.000000\n",
      "mean     43.416667\n",
      "std       4.326364\n",
      "min      30.600000\n",
      "25%      40.500000\n",
      "50%      43.400000\n",
      "75%      46.600000\n",
      "max      54.900000\n",
      "0.1890881061553955\n"
     ]
    }
   ],
   "source": [
    "hand_describe = pd.DataFrame(hand_avg_init)\n",
    "print(hand_describe.describe())\n",
    "end = time.time()\n",
    "print(end - start)"
   ]
  },
  {
   "cell_type": "code",
   "execution_count": null,
   "metadata": {},
   "outputs": [],
   "source": []
  }
 ],
 "metadata": {
  "kernelspec": {
   "display_name": "Python 3",
   "language": "python",
   "name": "python3"
  },
  "language_info": {
   "codemirror_mode": {
    "name": "ipython",
    "version": 3
   },
   "file_extension": ".py",
   "mimetype": "text/x-python",
   "name": "python",
   "nbconvert_exporter": "python",
   "pygments_lexer": "ipython3",
   "version": "3.6.5"
  }
 },
 "nbformat": 4,
 "nbformat_minor": 2
}
