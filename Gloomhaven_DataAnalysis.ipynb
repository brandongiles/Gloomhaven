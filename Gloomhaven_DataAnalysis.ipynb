{
 "cells": [
  {
   "cell_type": "code",
   "execution_count": 1,
   "metadata": {},
   "outputs": [],
   "source": [
    "# Importing packages\n",
    "import numpy as np\n",
    "import pandas as pd\n",
    "import itertools\n",
    "import statistics as stat\n",
    "import time"
   ]
  },
  {
   "cell_type": "code",
   "execution_count": 2,
   "metadata": {},
   "outputs": [],
   "source": [
    "# Loading in CSV data.  For now, this only contains a single class' cards and initiatives\n",
    "rawdata = pd.read_csv(\"GloomhavenTest.csv\")\n",
    "gen_classinfo = pd.read_csv(\"ClassInfo.csv\")"
   ]
  },
  {
   "cell_type": "code",
   "execution_count": 23,
   "metadata": {},
   "outputs": [],
   "source": [
    "# Setting data items for use later in code\n",
    "active_class = gen_classinfo['Class'][0]       # Setting the active class (Class[0] = Brute)\n",
    "hand_size = gen_classinfo['Hand Size'][0]      # Setting the hand size\n",
    "current_level = 2                              # Current level for the loop (envisioning this as a 1 -> 9 loop later)"
   ]
  },
  {
   "cell_type": "code",
   "execution_count": 24,
   "metadata": {},
   "outputs": [
    {
     "name": "stdout",
     "output_type": "stream",
     "text": [
      "    Level  Initiative\n",
      "0       1          64\n",
      "1       1          72\n",
      "2       1          10\n",
      "3       1          15\n",
      "4       1          87\n",
      "5       1          18\n",
      "6       1          32\n",
      "7       1          61\n",
      "8       1          27\n",
      "9       1          54\n",
      "10      1          35\n",
      "11      1          20\n",
      "12      1          77\n",
      "13      2          34\n",
      "14      2          40\n"
     ]
    }
   ],
   "source": [
    "# Setting the level and initiative columns for values up to the current level\n",
    "# These will be used to set the values looped through in the combinations loop later\n",
    "level_df = rawdata[(rawdata['Class'] == active_class) & (rawdata['Level'] <= current_level)]['Level']\n",
    "initiative_df = rawdata[(rawdata['Class'] == active_class) & (rawdata['Level'] <= current_level)]['Initiative']\n",
    "\n",
    "currlvl_df = pd.concat([level_df, initiative_df], axis = 1)\n",
    "print(currlvl_df)"
   ]
  },
  {
   "cell_type": "markdown",
   "metadata": {},
   "source": [
    "There are three validation checks we need to do on each hand combination that was passed into the previous array in order to evaluate if it's a legitimate hand or not:\n",
    "\n",
    "1.  The hand level sum needs to be lower than the max value for the hand and level\n",
    "    - This is done by assigning each card in the combination it's level, so a level 1 card gets a 1, level 2 a 2, etc.\n",
    "    - The sum of the array's level values then needs to be lower than the max value given by the following formula:\n",
    "        - Max value formula = ((([1] + [Level])*[Level])/2) + ([Hand Size] - [Level])\n",
    "        - Ex: For the Brute class, when evaluating hand combinations at level 2's selection time:\n",
    "            - (((1+2)*2)/2) + (10-2)\n",
    "            - 3 + 8 = 11\n",
    "        - Intuitively, this makes sense as at level 1, the Brute class would have 10 level 1 cards for a total of 10\n",
    "        - At level 2, at most, you would select one level 2 card and replace a level 1 card with it\n",
    "        - That would replace a 1 value with a 2, taking the max value possible up to 11\n",
    "        - If we ever run into a class that has a hand size lower than 8, this formula will need to be tweaked\n",
    "            - This is because at a hand size of 8, you could remove a level 1 card for each level up\n",
    "            - At a hand size of 7 or lower, the top level ups would mean you need to replace a card value over 1\n",
    "        \n",
    "2. At the level being evaluated, each hand combination can only have one of the level cards\n",
    "    - When leveling up, you can initially only select a single card for the given level\n",
    "    - This will filter out any combinations that load in something like two level 2 cards when evaluating level 2\n",
    "    \n",
    "3. The amount of cards over level 1 in the hand cannot exceed then evaluation level minus 1\n",
    "    - This is because you can only make one card selection every time you level up\n",
    "    - It is allowed for you to take a card lower than the level you're on, for example taking the 2nd lvl 2 card at level 3's promotion rather than a level 3\n",
    "    - You cannot though have something like both level 2 cards AND a level 3 card at level 3\n",
    "    - As the levels get higher, there are ways to make summation combinations that fall meet conditions 1 and 2 but use more cards > level 1 than is permitted"
   ]
  },
  {
   "cell_type": "code",
   "execution_count": 25,
   "metadata": {},
   "outputs": [],
   "source": [
    "# Creating a max value function that will evaluate the value for condition 1 above\n",
    "def maxvalue(handsize, current_level):\n",
    "    return (((1 + current_level)*current_level)/2) + (handsize - current_level)\n",
    "\n",
    "# Creating a function to count the number of cards at a level in a list\n",
    "def lvl_counter(input_list, value):\n",
    "    lvl_count = 0\n",
    "    for i in input_list:\n",
    "        if i == value:\n",
    "            lvl_count += 1\n",
    "    return lvl_count"
   ]
  },
  {
   "cell_type": "code",
   "execution_count": 35,
   "metadata": {},
   "outputs": [],
   "source": [
    "# Creating a list of all the possible combinations.  This will get parsed in the following steps\n",
    "level_comb = list(itertools.combinations(level_df, hand_size))\n",
    "initiative_comb = list(itertools.combinations(initiative_df, hand_size))\n",
    "\n",
    "\n",
    "# Second swing at a different roll-up method, using evaluations steps while looping the comb. iterator\n",
    "max_value = maxvalue(hand_size, current_level)  # Setting the max value for this class/level\n",
    "\n",
    "# Creating a dictionary to assign a binary 1 or 0 to each combination, based on it passing the hand conditions\n",
    "level_comb2 = dict()\n",
    "dict_counter = 0\n",
    "\n",
    "for hand in itertools.combinations(currlvl_df['Level'], hand_size):\n",
    "    if sum(hand) <= max_value and \\\n",
    "    (hand_size - lvl_counter(hand,1)) <= (current_level - 1) and (lvl_counter(hand, current_level)) != 2:\n",
    "        level_comb2[dict_counter] = 1\n",
    "    else:\n",
    "        level_comb2[dict_counter] = 0 \n",
    "    dict_counter += 1\n",
    "    \n",
    "# print(level_comb2)\n",
    "\n",
    "# Now creating a dictionary to reference the above binary dictionary in order to populate hand averages for valid hands\n",
    "initiative_comb2 = dict()\n",
    "dict_counter = 0\n",
    "valid_dict_counter = 0\n",
    "\n",
    "for hand in itertools.combinations(currlvl_df['Initiative'], hand_size):\n",
    "    if level_comb2[dict_counter] == 1:\n",
    "        initiative_comb2[valid_dict_counter] = sum(hand)/hand_size\n",
    "        valid_dict_counter += 1\n",
    "    dict_counter += 1\n",
    "\n",
    "# print(initiative_comb2)\n",
    "\n",
    "initiative_comb2_df = pd.DataFrame.from_dict(initiative_comb2, orient = 'Index')\n",
    "# print(initiative_comb2_df)"
   ]
  },
  {
   "cell_type": "code",
   "execution_count": 34,
   "metadata": {},
   "outputs": [
    {
     "name": "stdout",
     "output_type": "stream",
     "text": [
      "                 0\n",
      "count  1716.000000\n",
      "mean     43.416667\n",
      "std       4.326364\n",
      "min      30.600000\n",
      "25%      40.500000\n",
      "50%      43.400000\n",
      "75%      46.600000\n",
      "max      54.900000\n"
     ]
    }
   ],
   "source": [
    "print(initiative_comb2_df.describe())\n",
    "# Looks like this output matches the full list method"
   ]
  },
  {
   "cell_type": "code",
   "execution_count": 36,
   "metadata": {},
   "outputs": [],
   "source": [
    "# Performing validation checks on array and inputing hands that pass checks into a new list\n",
    "valid_hand_array = list()\n",
    "\n",
    "for ele, hand in enumerate(level_comb):\n",
    "    if sum(hand) <= max_value and \\\n",
    "    (hand_size - lvl_counter(hand,1)) <= (current_level - 1) and (lvl_counter(hand, current_level)) != 2:\n",
    "        \n",
    "        valid_hand_array.append(ele)"
   ]
  },
  {
   "cell_type": "code",
   "execution_count": 37,
   "metadata": {},
   "outputs": [],
   "source": [
    "# Performing validation checks on array and inputing hands that pass checks into a new list\n",
    "valid_initiative_array = list()\n",
    "hand_avg_init = list()\n",
    "\n",
    "for ele, hand in enumerate(initiative_comb):\n",
    "    if ele in valid_hand_array:\n",
    "        \n",
    "        valid_initiative_array.append(hand)\n",
    "        hand_avg_init.append(sum(hand)/hand_size)"
   ]
  },
  {
   "cell_type": "code",
   "execution_count": 38,
   "metadata": {},
   "outputs": [
    {
     "name": "stdout",
     "output_type": "stream",
     "text": [
      "                 0\n",
      "count  1716.000000\n",
      "mean     43.416667\n",
      "std       4.326364\n",
      "min      30.600000\n",
      "25%      40.500000\n",
      "50%      43.400000\n",
      "75%      46.600000\n",
      "max      54.900000\n"
     ]
    }
   ],
   "source": [
    "hand_describe = pd.DataFrame(hand_avg_init)\n",
    "print(hand_describe.describe())"
   ]
  },
  {
   "cell_type": "code",
   "execution_count": null,
   "metadata": {},
   "outputs": [],
   "source": []
  }
 ],
 "metadata": {
  "kernelspec": {
   "display_name": "Python 3",
   "language": "python",
   "name": "python3"
  },
  "language_info": {
   "codemirror_mode": {
    "name": "ipython",
    "version": 3
   },
   "file_extension": ".py",
   "mimetype": "text/x-python",
   "name": "python",
   "nbconvert_exporter": "python",
   "pygments_lexer": "ipython3",
   "version": "3.6.5"
  }
 },
 "nbformat": 4,
 "nbformat_minor": 2
}
